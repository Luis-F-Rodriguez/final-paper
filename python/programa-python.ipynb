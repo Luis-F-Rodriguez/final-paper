{
 "cells": [
  {
   "cell_type": "code",
   "execution_count": 7,
   "metadata": {},
   "outputs": [],
   "source": [
    "import pandas as pd\n",
    "import matplotlib.pyplot as plt\n",
    "from sklearn.linear_model import LinearRegression\n",
    "datos=pd.read_csv('entrenamiento-salud.csv')\n",
    "parametros_salud=datos[['x1','x2','x3']]\n",
    "prueba=pd.read_csv('test-salud.csv')\n",
    "salud=datos['y']\n",
    "modelo=LinearRegression(fit_intercept=False)\n",
    "modelo.fit(parametros_salud, salud)\n",
    "predicciones=pd.DataFrame( modelo.predict(prueba))\n",
    "predicciones.to_csv('nivel-salud.csv',index=False)\n"
   ]
  },
  {
   "cell_type": "code",
   "execution_count": 8,
   "metadata": {},
   "outputs": [],
   "source": [
    "import pandas as pd\n",
    "import matplotlib.pyplot as plt\n",
    "from sklearn.linear_model import LinearRegression\n",
    "datos=pd.read_csv('entrenamiento-social.csv')\n",
    "parametros_social=datos[['x1','x2','x3']]\n",
    "prueba=pd.read_csv('test-social.csv')\n",
    "social=datos['y']\n",
    "modelo=LinearRegression(fit_intercept=False)\n",
    "modelo.fit(parametros_social, social)\n",
    "predicciones=pd.DataFrame( modelo.predict(prueba))\n",
    "predicciones.to_csv('puntaje-social.csv',index=False)"
   ]
  },
  {
   "cell_type": "code",
   "execution_count": 10,
   "metadata": {},
   "outputs": [
    {
     "output_type": "execute_result",
     "data": {
      "text/plain": "array([0.40392403, 0.41264116, 0.37156811, 0.38567208, 0.40392403])"
     },
     "metadata": {},
     "execution_count": 10
    }
   ],
   "source": [
    "import pandas as pd\n",
    "import matplotlib.pyplot as plt\n",
    "from sklearn.linear_model import LinearRegression\n",
    "datos=pd.read_csv('entrenamiento-consumo.csv')\n",
    "parametros_consumo=datos[['x1','x2','x3','x4','x5']]\n",
    "prueba=pd.read_csv('test-consumo.csv')\n",
    "consumo=datos['y']\n",
    "modelo=LinearRegression(fit_intercept=False)\n",
    "modelo.fit(parametros_consumo, consumo)\n",
    "predicciones=pd.DataFrame( modelo.predict(prueba))\n",
    "predicciones.to_csv('puntaje-consumo.csv',index=False)\n"
   ]
  },
  {
   "cell_type": "code",
   "execution_count": null,
   "metadata": {},
   "outputs": [],
   "source": []
  }
 ],
 "metadata": {
  "language_info": {
   "codemirror_mode": {
    "name": "ipython",
    "version": 3
   },
   "file_extension": ".py",
   "mimetype": "text/x-python",
   "name": "python",
   "nbconvert_exporter": "python",
   "pygments_lexer": "ipython3",
   "version": 3
  },
  "orig_nbformat": 2,
  "kernelspec": {
   "name": "python_defaultSpec_1593361088036",
   "display_name": "Python 3.7.7 64-bit ('Python': conda)"
  }
 },
 "nbformat": 4,
 "nbformat_minor": 2
}